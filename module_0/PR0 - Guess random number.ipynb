{
 "cells": [
  {
   "cell_type": "code",
   "execution_count": 1,
   "metadata": {},
   "outputs": [],
   "source": [
    "import numpy as np"
   ]
  },
  {
   "cell_type": "code",
   "execution_count": 2,
   "metadata": {},
   "outputs": [
    {
     "name": "stdout",
     "output_type": "stream",
     "text": [
      "Ваш алгоритм угадывает число в среднем за 6 попыток\n"
     ]
    },
    {
     "data": {
      "text/plain": [
       "6"
      ]
     },
     "execution_count": 2,
     "metadata": {},
     "output_type": "execute_result"
    }
   ],
   "source": [
    "# Функция определения середины диапазона чисел\n",
    "def middle(x, y):\n",
    "    return int((x+y) / 2)\n",
    "\n",
    "\n",
    "# Алгоритм бинарного поиска числа в диапазоне чисел\n",
    "def game_core_v3(number):\n",
    "    count = 1\n",
    "    right_limit = 100 # Верхняя граница диапазона\n",
    "    left_limit = 1 # Нижняя граница диапазона\n",
    "    predict = middle(left_limit, right_limit) # Середина диапазона для 1-го сравнения\n",
    "    \n",
    "    while number != predict:\n",
    "        count += 1\n",
    "        \n",
    "        # Переопределяем середину диапазона для следующей попытки\n",
    "        predict = middle(left_limit, right_limit)\n",
    "        \n",
    "        # Если число больше срединного значения, увеличиваем нижнюю границу в 2 раза\n",
    "        if number > predict: \n",
    "            left_limit = predict + 1\n",
    "            \n",
    "        # Если число меньше срединного значения, уменьшаем верхнюю границу в 2 раза\n",
    "        elif number < predict: \n",
    "            right_limit = predict - 1\n",
    "            \n",
    "    return(count) # выход из цикла, если угадали\n",
    "\n",
    "        \n",
    "# Запускаем игру 1000 раз, чтобы узнать, как быстро игра угадывает число\n",
    "def score_game(game_core):\n",
    "    count_ls = []\n",
    "    np.random.seed(1)  # фиксируем RANDOM SEED, чтобы эксперимент был воспроизводим!\n",
    "    random_array = np.random.randint(1, 101, size=(1000))\n",
    "    for number in random_array:\n",
    "        count_ls.append(game_core(number))\n",
    "    score = int(np.mean(count_ls))\n",
    "    print(f\"Ваш алгоритм угадывает число в среднем за {score} попыток\")\n",
    "    return(score)\n",
    "\n",
    "\n",
    "# Определяем среднее количество попыток угадывания числа\n",
    "score_game(game_core_v3)"
   ]
  }
 ],
 "metadata": {
  "kernelspec": {
   "display_name": "Python 3",
   "language": "python",
   "name": "python3"
  },
  "language_info": {
   "codemirror_mode": {
    "name": "ipython",
    "version": 3
   },
   "file_extension": ".py",
   "mimetype": "text/x-python",
   "name": "python",
   "nbconvert_exporter": "python",
   "pygments_lexer": "ipython3",
   "version": "3.8.3"
  }
 },
 "nbformat": 4,
 "nbformat_minor": 4
}
